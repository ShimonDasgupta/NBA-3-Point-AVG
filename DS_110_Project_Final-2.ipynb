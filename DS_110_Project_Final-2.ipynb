{
  "nbformat": 4,
  "nbformat_minor": 0,
  "metadata": {
    "colab": {
      "name": "DS_110_Project_Final.ipynb",
      "provenance": []
    },
    "kernelspec": {
      "display_name": "Python 3",
      "name": "python3"
    },
    "language_info": {
      "name": "python"
    }
  },
  "cells": [
    {
      "cell_type": "code",
      "metadata": {
        "colab": {
          "resources": {
            "http://localhost:8080/nbextensions/google.colab/files.js": {
              "data": "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",
              "ok": true,
              "headers": [
                [
                  "content-type",
                  "application/javascript"
                ]
              ],
              "status": 200,
              "status_text": ""
            }
          },
          "base_uri": "https://localhost:8080/",
          "height": 417
        },
        "id": "MjXjhLyS9hMO",
        "outputId": "7d07a7a1-0b23-4b87-9b49-315e45270e3a"
      },
      "source": [
        "from google.colab import files\n",
        "uploaded = files.upload()\n",
        "\n",
        "import pandas as pd\n",
        "import io\n",
        "df = pd.read_csv(io.BytesIO(uploaded['2020-21 bios, gen adv, gen trad (edited).csv']), index_col = 'PLAYER')\n",
        "df.head()\n",
        "\n"
      ],
      "execution_count": null,
      "outputs": [
        {
          "output_type": "display_data",
          "data": {
            "text/html": [
              "\n",
              "     <input type=\"file\" id=\"files-e879603a-f199-43eb-b17f-1b975b5fe463\" name=\"files[]\" multiple disabled\n",
              "        style=\"border:none\" />\n",
              "     <output id=\"result-e879603a-f199-43eb-b17f-1b975b5fe463\">\n",
              "      Upload widget is only available when the cell has been executed in the\n",
              "      current browser session. Please rerun this cell to enable.\n",
              "      </output>\n",
              "      <script src=\"/nbextensions/google.colab/files.js\"></script> "
            ],
            "text/plain": [
              "<IPython.core.display.HTML object>"
            ]
          },
          "metadata": {}
        },
        {
          "output_type": "stream",
          "name": "stdout",
          "text": [
            "Saving 2020-21 bios, gen adv, gen trad (edited).csv to 2020-21 bios, gen adv, gen trad (edited).csv\n"
          ]
        },
        {
          "output_type": "execute_result",
          "data": {
            "text/html": [
              "<div>\n",
              "<style scoped>\n",
              "    .dataframe tbody tr th:only-of-type {\n",
              "        vertical-align: middle;\n",
              "    }\n",
              "\n",
              "    .dataframe tbody tr th {\n",
              "        vertical-align: top;\n",
              "    }\n",
              "\n",
              "    .dataframe thead th {\n",
              "        text-align: right;\n",
              "    }\n",
              "</style>\n",
              "<table border=\"1\" class=\"dataframe\">\n",
              "  <thead>\n",
              "    <tr style=\"text-align: right;\">\n",
              "      <th></th>\n",
              "      <th>TEAM</th>\n",
              "      <th>AGE</th>\n",
              "      <th>HEIGHT</th>\n",
              "      <th>WEIGHT</th>\n",
              "      <th>COLLEGE</th>\n",
              "      <th>COUNTRY</th>\n",
              "      <th>DRAFT YEAR</th>\n",
              "      <th>DRAFT ROUND</th>\n",
              "      <th>DRAFT NUMBER</th>\n",
              "      <th>GP</th>\n",
              "      <th>PTS</th>\n",
              "      <th>REB</th>\n",
              "      <th>AST</th>\n",
              "      <th>NETRTG</th>\n",
              "      <th>OREB%</th>\n",
              "      <th>DREB%</th>\n",
              "      <th>USG%</th>\n",
              "      <th>TS%</th>\n",
              "      <th>AST%</th>\n",
              "      <th>GP.1</th>\n",
              "      <th>W</th>\n",
              "      <th>L</th>\n",
              "      <th>MIN</th>\n",
              "      <th>PTS.1</th>\n",
              "      <th>FGM</th>\n",
              "      <th>FGA</th>\n",
              "      <th>FG%</th>\n",
              "      <th>3:00 PM</th>\n",
              "      <th>3PA</th>\n",
              "      <th>3P%</th>\n",
              "      <th>FTM</th>\n",
              "      <th>FTA</th>\n",
              "      <th>FT%</th>\n",
              "      <th>OREB</th>\n",
              "      <th>DREB</th>\n",
              "      <th>REB.1</th>\n",
              "      <th>AST.1</th>\n",
              "      <th>TOV</th>\n",
              "      <th>STL</th>\n",
              "      <th>BLK</th>\n",
              "      <th>PF</th>\n",
              "      <th>FP</th>\n",
              "      <th>DD2</th>\n",
              "      <th>TD3</th>\n",
              "      <th>+/-</th>\n",
              "      <th>GP.2</th>\n",
              "      <th>W.1</th>\n",
              "      <th>L.1</th>\n",
              "      <th>MIN.1</th>\n",
              "      <th>OFFRTG</th>\n",
              "      <th>DEFRTG</th>\n",
              "      <th>NETRTG.1</th>\n",
              "      <th>AST%.1</th>\n",
              "      <th>AST/TO</th>\n",
              "      <th>AST RATIO</th>\n",
              "      <th>OREB%.1</th>\n",
              "      <th>DREB%.1</th>\n",
              "      <th>REB%</th>\n",
              "      <th>TO RATIO</th>\n",
              "      <th>EFG%</th>\n",
              "      <th>TS%.1</th>\n",
              "      <th>USG%.1</th>\n",
              "      <th>PACE</th>\n",
              "      <th>PIE</th>\n",
              "      <th>POSS</th>\n",
              "      <th>YIN</th>\n",
              "      <th>3PTF</th>\n",
              "      <th>TS% TRUE</th>\n",
              "      <th>Unnamed: 69</th>\n",
              "      <th>Unnamed: 70</th>\n",
              "      <th>HEIGHT (IN)</th>\n",
              "    </tr>\n",
              "    <tr>\n",
              "      <th>PLAYER</th>\n",
              "      <th></th>\n",
              "      <th></th>\n",
              "      <th></th>\n",
              "      <th></th>\n",
              "      <th></th>\n",
              "      <th></th>\n",
              "      <th></th>\n",
              "      <th></th>\n",
              "      <th></th>\n",
              "      <th></th>\n",
              "      <th></th>\n",
              "      <th></th>\n",
              "      <th></th>\n",
              "      <th></th>\n",
              "      <th></th>\n",
              "      <th></th>\n",
              "      <th></th>\n",
              "      <th></th>\n",
              "      <th></th>\n",
              "      <th></th>\n",
              "      <th></th>\n",
              "      <th></th>\n",
              "      <th></th>\n",
              "      <th></th>\n",
              "      <th></th>\n",
              "      <th></th>\n",
              "      <th></th>\n",
              "      <th></th>\n",
              "      <th></th>\n",
              "      <th></th>\n",
              "      <th></th>\n",
              "      <th></th>\n",
              "      <th></th>\n",
              "      <th></th>\n",
              "      <th></th>\n",
              "      <th></th>\n",
              "      <th></th>\n",
              "      <th></th>\n",
              "      <th></th>\n",
              "      <th></th>\n",
              "      <th></th>\n",
              "      <th></th>\n",
              "      <th></th>\n",
              "      <th></th>\n",
              "      <th></th>\n",
              "      <th></th>\n",
              "      <th></th>\n",
              "      <th></th>\n",
              "      <th></th>\n",
              "      <th></th>\n",
              "      <th></th>\n",
              "      <th></th>\n",
              "      <th></th>\n",
              "      <th></th>\n",
              "      <th></th>\n",
              "      <th></th>\n",
              "      <th></th>\n",
              "      <th></th>\n",
              "      <th></th>\n",
              "      <th></th>\n",
              "      <th></th>\n",
              "      <th></th>\n",
              "      <th></th>\n",
              "      <th></th>\n",
              "      <th></th>\n",
              "      <th></th>\n",
              "      <th></th>\n",
              "      <th></th>\n",
              "      <th></th>\n",
              "      <th></th>\n",
              "      <th></th>\n",
              "    </tr>\n",
              "  </thead>\n",
              "  <tbody>\n",
              "    <tr>\n",
              "      <th>Aaron Gordon</th>\n",
              "      <td>DEN</td>\n",
              "      <td>25</td>\n",
              "      <td>6 8 2021</td>\n",
              "      <td>235</td>\n",
              "      <td>Arizona</td>\n",
              "      <td>USA</td>\n",
              "      <td>2014</td>\n",
              "      <td>1</td>\n",
              "      <td>4</td>\n",
              "      <td>50</td>\n",
              "      <td>12.4</td>\n",
              "      <td>5.7</td>\n",
              "      <td>3.2</td>\n",
              "      <td>2.1</td>\n",
              "      <td>5.50%</td>\n",
              "      <td>15.00%</td>\n",
              "      <td>20.40%</td>\n",
              "      <td>54.70%</td>\n",
              "      <td>16.50%</td>\n",
              "      <td>50</td>\n",
              "      <td>29</td>\n",
              "      <td>21</td>\n",
              "      <td>27.7</td>\n",
              "      <td>12.4</td>\n",
              "      <td>4.6</td>\n",
              "      <td>10.0</td>\n",
              "      <td>46.3</td>\n",
              "      <td>1.2</td>\n",
              "      <td>3.5</td>\n",
              "      <td>33.5</td>\n",
              "      <td>1.9</td>\n",
              "      <td>3.0</td>\n",
              "      <td>65.1</td>\n",
              "      <td>1.5</td>\n",
              "      <td>4.1</td>\n",
              "      <td>5.7</td>\n",
              "      <td>3.2</td>\n",
              "      <td>1.9</td>\n",
              "      <td>0.7</td>\n",
              "      <td>0.7</td>\n",
              "      <td>1.8</td>\n",
              "      <td>26.1</td>\n",
              "      <td>3</td>\n",
              "      <td>1</td>\n",
              "      <td>1.2</td>\n",
              "      <td>50</td>\n",
              "      <td>29</td>\n",
              "      <td>21</td>\n",
              "      <td>27.7</td>\n",
              "      <td>112.5</td>\n",
              "      <td>110.4</td>\n",
              "      <td>2.1</td>\n",
              "      <td>16.5</td>\n",
              "      <td>1.66</td>\n",
              "      <td>19.6</td>\n",
              "      <td>5.5</td>\n",
              "      <td>15.0</td>\n",
              "      <td>10.2</td>\n",
              "      <td>11.8</td>\n",
              "      <td>52.2</td>\n",
              "      <td>54.7</td>\n",
              "      <td>20.4</td>\n",
              "      <td>99.48</td>\n",
              "      <td>9.5</td>\n",
              "      <td>2,868</td>\n",
              "      <td>7</td>\n",
              "      <td>1</td>\n",
              "      <td>0.547</td>\n",
              "      <td>6</td>\n",
              "      <td>8</td>\n",
              "      <td>80</td>\n",
              "    </tr>\n",
              "    <tr>\n",
              "      <th>Aaron Holiday</th>\n",
              "      <td>IND</td>\n",
              "      <td>24</td>\n",
              "      <td>6 1 2000</td>\n",
              "      <td>185</td>\n",
              "      <td>UCLA</td>\n",
              "      <td>USA</td>\n",
              "      <td>2018</td>\n",
              "      <td>1</td>\n",
              "      <td>23</td>\n",
              "      <td>66</td>\n",
              "      <td>7.2</td>\n",
              "      <td>1.3</td>\n",
              "      <td>1.9</td>\n",
              "      <td>-0.2</td>\n",
              "      <td>1.20%</td>\n",
              "      <td>6.00%</td>\n",
              "      <td>18.90%</td>\n",
              "      <td>50.30%</td>\n",
              "      <td>13.90%</td>\n",
              "      <td>66</td>\n",
              "      <td>30</td>\n",
              "      <td>36</td>\n",
              "      <td>17.8</td>\n",
              "      <td>7.2</td>\n",
              "      <td>2.6</td>\n",
              "      <td>6.6</td>\n",
              "      <td>39.0</td>\n",
              "      <td>1.0</td>\n",
              "      <td>2.8</td>\n",
              "      <td>36.8</td>\n",
              "      <td>1.0</td>\n",
              "      <td>1.3</td>\n",
              "      <td>81.9</td>\n",
              "      <td>0.2</td>\n",
              "      <td>1.1</td>\n",
              "      <td>1.3</td>\n",
              "      <td>1.9</td>\n",
              "      <td>1.0</td>\n",
              "      <td>0.7</td>\n",
              "      <td>0.2</td>\n",
              "      <td>1.4</td>\n",
              "      <td>13.3</td>\n",
              "      <td>1</td>\n",
              "      <td>0</td>\n",
              "      <td>0.0</td>\n",
              "      <td>66</td>\n",
              "      <td>30</td>\n",
              "      <td>36</td>\n",
              "      <td>17.8</td>\n",
              "      <td>110.1</td>\n",
              "      <td>110.3</td>\n",
              "      <td>-0.2</td>\n",
              "      <td>13.9</td>\n",
              "      <td>1.86</td>\n",
              "      <td>18.5</td>\n",
              "      <td>1.2</td>\n",
              "      <td>6.0</td>\n",
              "      <td>3.6</td>\n",
              "      <td>9.9</td>\n",
              "      <td>46.7</td>\n",
              "      <td>50.3</td>\n",
              "      <td>18.9</td>\n",
              "      <td>104.34</td>\n",
              "      <td>5.7</td>\n",
              "      <td>2,560</td>\n",
              "      <td>3</td>\n",
              "      <td>1</td>\n",
              "      <td>0.503</td>\n",
              "      <td>6</td>\n",
              "      <td>1</td>\n",
              "      <td>73</td>\n",
              "    </tr>\n",
              "    <tr>\n",
              "      <th>Aaron Nesmith</th>\n",
              "      <td>BOS</td>\n",
              "      <td>21</td>\n",
              "      <td>6 5 2021</td>\n",
              "      <td>215</td>\n",
              "      <td>Vanderbilt</td>\n",
              "      <td>USA</td>\n",
              "      <td>2020</td>\n",
              "      <td>1</td>\n",
              "      <td>14</td>\n",
              "      <td>46</td>\n",
              "      <td>4.7</td>\n",
              "      <td>2.8</td>\n",
              "      <td>0.5</td>\n",
              "      <td>-0.5</td>\n",
              "      <td>4.10%</td>\n",
              "      <td>14.60%</td>\n",
              "      <td>13.30%</td>\n",
              "      <td>57.30%</td>\n",
              "      <td>4.70%</td>\n",
              "      <td>46</td>\n",
              "      <td>22</td>\n",
              "      <td>24</td>\n",
              "      <td>14.5</td>\n",
              "      <td>4.7</td>\n",
              "      <td>1.7</td>\n",
              "      <td>3.9</td>\n",
              "      <td>43.8</td>\n",
              "      <td>0.9</td>\n",
              "      <td>2.3</td>\n",
              "      <td>37.0</td>\n",
              "      <td>0.5</td>\n",
              "      <td>0.6</td>\n",
              "      <td>78.6</td>\n",
              "      <td>0.6</td>\n",
              "      <td>2.2</td>\n",
              "      <td>2.8</td>\n",
              "      <td>0.5</td>\n",
              "      <td>0.5</td>\n",
              "      <td>0.3</td>\n",
              "      <td>0.2</td>\n",
              "      <td>1.9</td>\n",
              "      <td>9.9</td>\n",
              "      <td>0</td>\n",
              "      <td>0</td>\n",
              "      <td>-0.2</td>\n",
              "      <td>46</td>\n",
              "      <td>22</td>\n",
              "      <td>24</td>\n",
              "      <td>14.5</td>\n",
              "      <td>108.6</td>\n",
              "      <td>109.1</td>\n",
              "      <td>-0.5</td>\n",
              "      <td>4.7</td>\n",
              "      <td>1.00</td>\n",
              "      <td>9.7</td>\n",
              "      <td>4.1</td>\n",
              "      <td>14.6</td>\n",
              "      <td>9.3</td>\n",
              "      <td>9.7</td>\n",
              "      <td>55.1</td>\n",
              "      <td>57.3</td>\n",
              "      <td>13.3</td>\n",
              "      <td>101.13</td>\n",
              "      <td>6.0</td>\n",
              "      <td>1,409</td>\n",
              "      <td>1</td>\n",
              "      <td>1</td>\n",
              "      <td>0.573</td>\n",
              "      <td>6</td>\n",
              "      <td>5</td>\n",
              "      <td>77</td>\n",
              "    </tr>\n",
              "    <tr>\n",
              "      <th>Abdel Nader</th>\n",
              "      <td>PHX</td>\n",
              "      <td>27</td>\n",
              "      <td>6 5 2021</td>\n",
              "      <td>225</td>\n",
              "      <td>Iowa State</td>\n",
              "      <td>Egypt</td>\n",
              "      <td>2016</td>\n",
              "      <td>2</td>\n",
              "      <td>58</td>\n",
              "      <td>24</td>\n",
              "      <td>6.7</td>\n",
              "      <td>2.6</td>\n",
              "      <td>0.8</td>\n",
              "      <td>5.0</td>\n",
              "      <td>2.00%</td>\n",
              "      <td>15.10%</td>\n",
              "      <td>18.30%</td>\n",
              "      <td>60.50%</td>\n",
              "      <td>7.80%</td>\n",
              "      <td>24</td>\n",
              "      <td>16</td>\n",
              "      <td>8</td>\n",
              "      <td>14.8</td>\n",
              "      <td>6.7</td>\n",
              "      <td>2.4</td>\n",
              "      <td>4.8</td>\n",
              "      <td>49.1</td>\n",
              "      <td>0.8</td>\n",
              "      <td>1.8</td>\n",
              "      <td>41.9</td>\n",
              "      <td>1.2</td>\n",
              "      <td>1.5</td>\n",
              "      <td>75.7</td>\n",
              "      <td>0.3</td>\n",
              "      <td>2.3</td>\n",
              "      <td>2.6</td>\n",
              "      <td>0.8</td>\n",
              "      <td>0.8</td>\n",
              "      <td>0.4</td>\n",
              "      <td>0.4</td>\n",
              "      <td>1.4</td>\n",
              "      <td>12.5</td>\n",
              "      <td>0</td>\n",
              "      <td>0</td>\n",
              "      <td>1.2</td>\n",
              "      <td>24</td>\n",
              "      <td>16</td>\n",
              "      <td>8</td>\n",
              "      <td>14.8</td>\n",
              "      <td>106.7</td>\n",
              "      <td>101.7</td>\n",
              "      <td>5.0</td>\n",
              "      <td>7.8</td>\n",
              "      <td>1.00</td>\n",
              "      <td>11.2</td>\n",
              "      <td>2.0</td>\n",
              "      <td>15.1</td>\n",
              "      <td>8.8</td>\n",
              "      <td>11.2</td>\n",
              "      <td>56.9</td>\n",
              "      <td>60.5</td>\n",
              "      <td>18.3</td>\n",
              "      <td>102.96</td>\n",
              "      <td>9.2</td>\n",
              "      <td>757</td>\n",
              "      <td>5</td>\n",
              "      <td>1</td>\n",
              "      <td>0.605</td>\n",
              "      <td>6</td>\n",
              "      <td>5</td>\n",
              "      <td>77</td>\n",
              "    </tr>\n",
              "    <tr>\n",
              "      <th>Al Horford</th>\n",
              "      <td>BOS</td>\n",
              "      <td>35</td>\n",
              "      <td>6 9 2021</td>\n",
              "      <td>240</td>\n",
              "      <td>Florida</td>\n",
              "      <td>Dominican Rep...</td>\n",
              "      <td>2007</td>\n",
              "      <td>1</td>\n",
              "      <td>3</td>\n",
              "      <td>28</td>\n",
              "      <td>14.2</td>\n",
              "      <td>6.7</td>\n",
              "      <td>3.4</td>\n",
              "      <td>-6.9</td>\n",
              "      <td>3.40%</td>\n",
              "      <td>19.50%</td>\n",
              "      <td>22.10%</td>\n",
              "      <td>53.80%</td>\n",
              "      <td>20.60%</td>\n",
              "      <td>28</td>\n",
              "      <td>11</td>\n",
              "      <td>17</td>\n",
              "      <td>27.9</td>\n",
              "      <td>14.2</td>\n",
              "      <td>5.8</td>\n",
              "      <td>12.9</td>\n",
              "      <td>45.0</td>\n",
              "      <td>2.0</td>\n",
              "      <td>5.4</td>\n",
              "      <td>36.8</td>\n",
              "      <td>0.6</td>\n",
              "      <td>0.8</td>\n",
              "      <td>81.8</td>\n",
              "      <td>1.0</td>\n",
              "      <td>5.7</td>\n",
              "      <td>6.7</td>\n",
              "      <td>3.4</td>\n",
              "      <td>1.0</td>\n",
              "      <td>0.9</td>\n",
              "      <td>0.9</td>\n",
              "      <td>1.7</td>\n",
              "      <td>31.7</td>\n",
              "      <td>1</td>\n",
              "      <td>0</td>\n",
              "      <td>-3.6</td>\n",
              "      <td>28</td>\n",
              "      <td>11</td>\n",
              "      <td>17</td>\n",
              "      <td>27.9</td>\n",
              "      <td>102.2</td>\n",
              "      <td>109.1</td>\n",
              "      <td>-6.9</td>\n",
              "      <td>20.6</td>\n",
              "      <td>3.24</td>\n",
              "      <td>19.2</td>\n",
              "      <td>3.4</td>\n",
              "      <td>19.5</td>\n",
              "      <td>11.4</td>\n",
              "      <td>5.9</td>\n",
              "      <td>52.8</td>\n",
              "      <td>53.8</td>\n",
              "      <td>22.1</td>\n",
              "      <td>100.30</td>\n",
              "      <td>13.1</td>\n",
              "      <td>1,639</td>\n",
              "      <td>14</td>\n",
              "      <td>1</td>\n",
              "      <td>0.538</td>\n",
              "      <td>6</td>\n",
              "      <td>9</td>\n",
              "      <td>81</td>\n",
              "    </tr>\n",
              "  </tbody>\n",
              "</table>\n",
              "</div>"
            ],
            "text/plain": [
              "              TEAM  AGE    HEIGHT  ...  Unnamed: 69 Unnamed: 70 HEIGHT (IN)\n",
              "PLAYER                             ...                                     \n",
              "Aaron Gordon   DEN   25  6 8 2021  ...            6           8          80\n",
              "Aaron Holiday  IND   24  6 1 2000  ...            6           1          73\n",
              "Aaron Nesmith  BOS   21  6 5 2021  ...            6           5          77\n",
              "Abdel Nader    PHX   27  6 5 2021  ...            6           5          77\n",
              "Al Horford     BOS   35  6 9 2021  ...            6           9          81\n",
              "\n",
              "[5 rows x 71 columns]"
            ]
          },
          "metadata": {},
          "execution_count": 1
        }
      ]
    },
    {
      "cell_type": "code",
      "metadata": {
        "colab": {
          "base_uri": "https://localhost:8080/"
        },
        "id": "NjRMBE539UeZ",
        "outputId": "2a452ace-4d98-4496-ec26-e914eae00787"
      },
      "source": [
        "df['3P%'].mean() # The average three-point percentage accuracy for all players in the NBA - used as a threshold that is compared with the predicted 3P%"
      ],
      "execution_count": null,
      "outputs": [
        {
          "data": {
            "text/plain": [
              "30.696277915632773"
            ]
          },
          "execution_count": 28,
          "metadata": {},
          "output_type": "execute_result"
        }
      ]
    },
    {
      "cell_type": "code",
      "metadata": {
        "id": "GFlPN6Ko2aJa"
      },
      "source": [
        "import numpy as np\n",
        "import pandas as pd\n",
        "from sklearn.model_selection import train_test_split\n",
        "from sklearn.tree import DecisionTreeClassifier\n",
        "from sklearn.ensemble import RandomForestClassifier\n",
        "from sklearn.metrics import accuracy_score\n",
        "\n",
        "\n",
        "train_data = df\n",
        "# Combinations of feature types\n",
        "physical = [ \"AGE\", \"WEIGHT\", \"HEIGHT (IN)\", \"YIN\"]\n",
        "misc = [\"PTS\", \"REB\", \"AST\", \"TS% TRUE\", \"FT%\", \"OFFRTG\"]\n",
        "features = [\"PTS\", \"REB\", \"AST\", \"TS% TRUE\", \"FT%\", \"OFFRTG\",\"AGE\", \"WEIGHT\", \"YIN\", \"HEIGHT (IN)\"]\n",
        "\n",
        "# Individual features \n",
        "age = ['AGE']\n",
        "weight = ['WEIGHT']\n",
        "hieght = ['HEIGHT (IN)']\n",
        "yin = ['YIN']\n",
        "pts = ['PTS']\n",
        "reb = ['REB']\n",
        "ast = ['AST']\n",
        "ts = ['TS% TRUE']\n",
        "ft = [\"FT%\"]\n",
        "off = [\"OFFRTG\"]\n",
        "\n"
      ],
      "execution_count": null,
      "outputs": []
    },
    {
      "cell_type": "code",
      "metadata": {
        "colab": {
          "base_uri": "https://localhost:8080/"
        },
        "id": "69ZaE5T4b9vW",
        "outputId": "b7affb8b-5a24-4aea-cc0e-a45e061b3ae4"
      },
      "source": [
        "# Training the classifiers using \"physical\" attributes\n",
        "x_train, x_test, y_train, y_test = train_test_split(train_data.drop(['3PTF'], axis=1), train_data['3PTF'], test_size = 0.20, random_state = 0)\n",
        "\n",
        "x_train = pd.get_dummies(x_train[physical])\n",
        "x_test = pd.get_dummies(x_test[physical])\n",
        "\n",
        "model_dt = DecisionTreeClassifier(max_depth=5, random_state=100)\n",
        "model_dt.fit(x_train, y_train)\n",
        "pred_dt = model_dt.predict(x_test)\n",
        "model_rf = RandomForestClassifier(n_estimators=500, max_depth=5, random_state=1)\n",
        "model_rf.fit(x_train, y_train)\n",
        "pred_rf = model_rf.predict(x_test)\n",
        "\n",
        "# Computing accuracy\n",
        "print(\"The average accuracy score for the Decision Tree model is: \")\n",
        "print(accuracy_score(y_test, pred_dt))\n",
        "print(\"The average accuracy score for the Random Forest model is: \")\n",
        "print(accuracy_score(y_test, pred_rf))"
      ],
      "execution_count": null,
      "outputs": [
        {
          "output_type": "stream",
          "name": "stdout",
          "text": [
            "The average accuracy score for the Decision Tree model is: \n",
            "0.6790123456790124\n",
            "The average accuracy score for the Random Forest model is: \n",
            "0.6666666666666666\n"
          ]
        }
      ]
    },
    {
      "cell_type": "code",
      "metadata": {
        "colab": {
          "base_uri": "https://localhost:8080/"
        },
        "id": "uSKmMlAYQGzL",
        "outputId": "36766675-e958-4f90-e5d2-6b1d7678a79a"
      },
      "source": [
        "# Training the classifiers using \"miscellaneous\" attributes\n",
        "x_train, x_test, y_train, y_test = train_test_split(train_data.drop(['3PTF'], axis=1), train_data['3PTF'], test_size = 0.20, random_state = 0)\n",
        "\n",
        "x_train = pd.get_dummies(x_train[misc])\n",
        "x_test = pd.get_dummies(x_test[misc])\n",
        "\n",
        "model_dt = DecisionTreeClassifier(max_depth=5, random_state=100)\n",
        "model_dt.fit(x_train, y_train)\n",
        "pred_dt = model_dt.predict(x_test)\n",
        "model_rf = RandomForestClassifier(n_estimators=500, max_depth=5, random_state=1)\n",
        "model_rf.fit(x_train, y_train)\n",
        "pred_rf = model_rf.predict(x_test)\n",
        "\n",
        "# Computing accuracy\n",
        "print(\"The accuracy score for the Decision Tree model is: \")\n",
        "print(accuracy_score(y_test, pred_dt))\n",
        "print(\"The accuracy score for the Random Forest model is: \")\n",
        "print(accuracy_score(y_test, pred_rf))"
      ],
      "execution_count": null,
      "outputs": [
        {
          "output_type": "stream",
          "name": "stdout",
          "text": [
            "The accuracy score for the Decision Tree model is: \n",
            "0.7530864197530864\n",
            "The accuracy score for the Random Forest model is: \n",
            "0.7901234567901234\n"
          ]
        }
      ]
    },
    {
      "cell_type": "code",
      "metadata": {
        "colab": {
          "base_uri": "https://localhost:8080/"
        },
        "id": "KsXzp0YmQUxH",
        "outputId": "c3fe5e9f-fce7-44d0-af97-7cc25e6a7e78"
      },
      "source": [
        "# Training using the physical and the miscellaneous attributes combined\n",
        "x_train, x_test, y_train, y_test = train_test_split(train_data.drop(['3PTF'], axis=1), train_data['3PTF'], test_size = 0.20, random_state = 0)\n",
        "\n",
        "x_train = pd.get_dummies(x_train[features])\n",
        "x_test = pd.get_dummies(x_test[features])\n",
        "\n",
        "model_dt = DecisionTreeClassifier(max_depth=5, random_state=100)\n",
        "model_dt.fit(x_train, y_train)\n",
        "pred_dt = model_dt.predict(x_test)\n",
        "model_rf = RandomForestClassifier(n_estimators=500, max_depth=5, random_state=1)\n",
        "model_rf.fit(x_train, y_train)\n",
        "pred_rf = model_rf.predict(x_test)\n",
        "\n",
        "# Computing accuracy\n",
        "print(\"The accuracy score for the Decision Tree model is: \")\n",
        "print(accuracy_score(y_test, pred_dt))\n",
        "print(\"The accuracy score for the Random Forest model is: \")\n",
        "print(accuracy_score(y_test, pred_rf))"
      ],
      "execution_count": null,
      "outputs": [
        {
          "output_type": "stream",
          "name": "stdout",
          "text": [
            "The accuracy score for the Decision Tree model is: \n",
            "0.7407407407407407\n",
            "The accuracy score for the Random Forest model is: \n",
            "0.8271604938271605\n"
          ]
        }
      ]
    },
    {
      "cell_type": "code",
      "source": [
        "# Training using the age feature\n",
        "x_train, x_test, y_train, y_test = train_test_split(train_data.drop(['3PTF'], axis=1), train_data['3PTF'], test_size = 0.20, random_state = 0)\n",
        "\n",
        "x_train = pd.get_dummies(x_train[age])\n",
        "x_test = pd.get_dummies(x_test[age])\n",
        "\n",
        "model_dt = DecisionTreeClassifier(max_depth=5, random_state=100)\n",
        "model_dt.fit(x_train, y_train)\n",
        "pred_dt = model_dt.predict(x_test)\n",
        "model_rf = RandomForestClassifier(n_estimators=500, max_depth=5, random_state=1)\n",
        "model_rf.fit(x_train, y_train)\n",
        "pred_rf = model_rf.predict(x_test)\n",
        "\n",
        "# Computing accuracy\n",
        "print(\"The accuracy score for the Decision Tree model is: \")\n",
        "print(accuracy_score(y_test, pred_dt))\n",
        "print(\"The accuracy score for the Random Forest model is: \")\n",
        "print(accuracy_score(y_test, pred_rf))"
      ],
      "metadata": {
        "colab": {
          "base_uri": "https://localhost:8080/"
        },
        "id": "8_U0gsA2Kjjw",
        "outputId": "61ff8244-a8aa-4533-b318-833d9f7a2025"
      },
      "execution_count": null,
      "outputs": [
        {
          "output_type": "stream",
          "name": "stdout",
          "text": [
            "The accuracy score for the Decision Tree model is: \n",
            "0.5925925925925926\n",
            "The accuracy score for the Random Forest model is: \n",
            "0.5925925925925926\n"
          ]
        }
      ]
    },
    {
      "cell_type": "code",
      "source": [
        "# Training using the weight feature\n",
        "x_train, x_test, y_train, y_test = train_test_split(train_data.drop(['3PTF'], axis=1), train_data['3PTF'], test_size = 0.20, random_state = 0)\n",
        "\n",
        "x_train = pd.get_dummies(x_train[weight])\n",
        "x_test = pd.get_dummies(x_test[weight])\n",
        "\n",
        "model_dt = DecisionTreeClassifier(max_depth=5, random_state=100)\n",
        "model_dt.fit(x_train, y_train)\n",
        "pred_dt = model_dt.predict(x_test)\n",
        "model_rf = RandomForestClassifier(n_estimators=500, max_depth=5, random_state=1)\n",
        "model_rf.fit(x_train, y_train)\n",
        "pred_rf = model_rf.predict(x_test)\n",
        "\n",
        "# Computing accuracy\n",
        "print(\"The accuracy score for the Decision Tree model is: \")\n",
        "print(accuracy_score(y_test, pred_dt))\n",
        "print(\"The accuracy score for the Random Forest model is: \")\n",
        "print(accuracy_score(y_test, pred_rf))"
      ],
      "metadata": {
        "colab": {
          "base_uri": "https://localhost:8080/"
        },
        "id": "uuG1CWNMKwM2",
        "outputId": "6dd7aaa0-69ee-45fc-dfc4-2a728a0a8a85"
      },
      "execution_count": null,
      "outputs": [
        {
          "output_type": "stream",
          "name": "stdout",
          "text": [
            "The accuracy score for the Decision Tree model is: \n",
            "0.6172839506172839\n",
            "The accuracy score for the Random Forest model is: \n",
            "0.6172839506172839\n"
          ]
        }
      ]
    },
    {
      "cell_type": "code",
      "source": [
        "# Training using the height feature\n",
        "x_train, x_test, y_train, y_test = train_test_split(train_data.drop(['3PTF'], axis=1), train_data['3PTF'], test_size = 0.20, random_state = 0)\n",
        "\n",
        "x_train = pd.get_dummies(x_train[hieght])\n",
        "x_test = pd.get_dummies(x_test[hieght])\n",
        "\n",
        "model_dt = DecisionTreeClassifier(max_depth=5, random_state=100)\n",
        "model_dt.fit(x_train, y_train)\n",
        "pred_dt = model_dt.predict(x_test)\n",
        "model_rf = RandomForestClassifier(n_estimators=500, max_depth=5, random_state=1)\n",
        "model_rf.fit(x_train, y_train)\n",
        "pred_rf = model_rf.predict(x_test)\n",
        "\n",
        "# Computing accuracy\n",
        "print(\"The accuracy score for the Decision Tree model is: \")\n",
        "print(accuracy_score(y_test, pred_dt))\n",
        "print(\"The accuracy score for the Random Forest model is: \")\n",
        "print(accuracy_score(y_test, pred_rf))"
      ],
      "metadata": {
        "colab": {
          "base_uri": "https://localhost:8080/"
        },
        "id": "CyIuOzdZLZNn",
        "outputId": "23151422-93e6-4419-df47-c559f34f7d45"
      },
      "execution_count": null,
      "outputs": [
        {
          "output_type": "stream",
          "name": "stdout",
          "text": [
            "The accuracy score for the Decision Tree model is: \n",
            "0.6049382716049383\n",
            "The accuracy score for the Random Forest model is: \n",
            "0.6049382716049383\n"
          ]
        }
      ]
    },
    {
      "cell_type": "code",
      "source": [
        "# Training using the years in the NBA feature\n",
        "x_train, x_test, y_train, y_test = train_test_split(train_data.drop(['3PTF'], axis=1), train_data['3PTF'], test_size = 0.20, random_state = 0)\n",
        "\n",
        "x_train = pd.get_dummies(x_train[yin])\n",
        "x_test = pd.get_dummies(x_test[yin])\n",
        "\n",
        "model_dt = DecisionTreeClassifier(max_depth=5, random_state=100)\n",
        "model_dt.fit(x_train, y_train)\n",
        "pred_dt = model_dt.predict(x_test)\n",
        "model_rf = RandomForestClassifier(n_estimators=500, max_depth=5, random_state=1)\n",
        "model_rf.fit(x_train, y_train)\n",
        "pred_rf = model_rf.predict(x_test)\n",
        "\n",
        "# Computing accuracy\n",
        "print(\"The accuracy score for the Decision Tree model is: \")\n",
        "print(accuracy_score(y_test, pred_dt))\n",
        "print(\"The accuracy score for the Random Forest model is: \")\n",
        "print(accuracy_score(y_test, pred_rf))"
      ],
      "metadata": {
        "colab": {
          "base_uri": "https://localhost:8080/"
        },
        "id": "MxPMpHyJLkva",
        "outputId": "f461495d-d764-4e28-ba66-230a5b1ac525"
      },
      "execution_count": null,
      "outputs": [
        {
          "output_type": "stream",
          "name": "stdout",
          "text": [
            "The accuracy score for the Decision Tree model is: \n",
            "0.5925925925925926\n",
            "The accuracy score for the Random Forest model is: \n",
            "0.5925925925925926\n"
          ]
        }
      ]
    },
    {
      "cell_type": "code",
      "source": [
        "# Training using the points per game statistic\n",
        "x_train, x_test, y_train, y_test = train_test_split(train_data.drop(['3PTF'], axis=1), train_data['3PTF'], test_size = 0.20, random_state = 0)\n",
        "\n",
        "x_train = pd.get_dummies(x_train[pts])\n",
        "x_test = pd.get_dummies(x_test[pts])\n",
        "\n",
        "model_dt = DecisionTreeClassifier(max_depth=5, random_state=100)\n",
        "model_dt.fit(x_train, y_train)\n",
        "pred_dt = model_dt.predict(x_test)\n",
        "model_rf = RandomForestClassifier(n_estimators=500, max_depth=5, random_state=1)\n",
        "model_rf.fit(x_train, y_train)\n",
        "pred_rf = model_rf.predict(x_test)\n",
        "\n",
        "# Computing accuracy\n",
        "print(\"The accuracy score for the Decision Tree model is: \")\n",
        "print(accuracy_score(y_test, pred_dt))\n",
        "print(\"The accuracy score for the Random Forest model is: \")\n",
        "print(accuracy_score(y_test, pred_rf))"
      ],
      "metadata": {
        "colab": {
          "base_uri": "https://localhost:8080/"
        },
        "id": "djncOcCULxmZ",
        "outputId": "18194d31-021a-47ac-9521-7e0f2632dcf0"
      },
      "execution_count": null,
      "outputs": [
        {
          "output_type": "stream",
          "name": "stdout",
          "text": [
            "The accuracy score for the Decision Tree model is: \n",
            "0.7037037037037037\n",
            "The accuracy score for the Random Forest model is: \n",
            "0.691358024691358\n"
          ]
        }
      ]
    },
    {
      "cell_type": "code",
      "source": [
        "# Training using the rebounds statistic\n",
        "x_train, x_test, y_train, y_test = train_test_split(train_data.drop(['3PTF'], axis=1), train_data['3PTF'], test_size = 0.20, random_state = 0)\n",
        "\n",
        "x_train = pd.get_dummies(x_train[reb])\n",
        "x_test = pd.get_dummies(x_test[reb])\n",
        "\n",
        "model_dt = DecisionTreeClassifier(max_depth=5, random_state=100)\n",
        "model_dt.fit(x_train, y_train)\n",
        "pred_dt = model_dt.predict(x_test)\n",
        "model_rf = RandomForestClassifier(n_estimators=500, max_depth=5, random_state=1)\n",
        "model_rf.fit(x_train, y_train)\n",
        "pred_rf = model_rf.predict(x_test)\n",
        "\n",
        "# Computing accuracy\n",
        "print(\"The accuracy score for the Decision Tree model is: \")\n",
        "print(accuracy_score(y_test, pred_dt))\n",
        "print(\"The accuracy score for the Random Forest model is: \")\n",
        "print(accuracy_score(y_test, pred_rf))"
      ],
      "metadata": {
        "colab": {
          "base_uri": "https://localhost:8080/"
        },
        "id": "yZ-5qVjDL-SM",
        "outputId": "72d59b90-7972-437a-db1d-c45f878f8267"
      },
      "execution_count": null,
      "outputs": [
        {
          "output_type": "stream",
          "name": "stdout",
          "text": [
            "The accuracy score for the Decision Tree model is: \n",
            "0.6172839506172839\n",
            "The accuracy score for the Random Forest model is: \n",
            "0.6419753086419753\n"
          ]
        }
      ]
    },
    {
      "cell_type": "code",
      "source": [
        "# Training using the assists sttistic\n",
        "x_train, x_test, y_train, y_test = train_test_split(train_data.drop(['3PTF'], axis=1), train_data['3PTF'], test_size = 0.20, random_state = 0)\n",
        "\n",
        "x_train = pd.get_dummies(x_train[ast])\n",
        "x_test = pd.get_dummies(x_test[ast])\n",
        "\n",
        "model_dt = DecisionTreeClassifier(max_depth=5, random_state=100)\n",
        "model_dt.fit(x_train, y_train)\n",
        "pred_dt = model_dt.predict(x_test)\n",
        "model_rf = RandomForestClassifier(n_estimators=500, max_depth=5, random_state=1)\n",
        "model_rf.fit(x_train, y_train)\n",
        "pred_rf = model_rf.predict(x_test)\n",
        "\n",
        "# Computing accuracy\n",
        "print(\"The accuracy score for the Decision Tree model is: \")\n",
        "print(accuracy_score(y_test, pred_dt))\n",
        "print(\"The accuracy score for the Random Forest model is: \")\n",
        "print(accuracy_score(y_test, pred_rf))"
      ],
      "metadata": {
        "colab": {
          "base_uri": "https://localhost:8080/"
        },
        "id": "RlsEt_vwMHNP",
        "outputId": "9d420e8a-86a2-446f-d5fb-ae2da772b900"
      },
      "execution_count": null,
      "outputs": [
        {
          "output_type": "stream",
          "name": "stdout",
          "text": [
            "The accuracy score for the Decision Tree model is: \n",
            "0.6790123456790124\n",
            "The accuracy score for the Random Forest model is: \n",
            "0.6790123456790124\n"
          ]
        }
      ]
    },
    {
      "cell_type": "code",
      "source": [
        "# Training using the real amount of shots made out of taken\n",
        "x_train, x_test, y_train, y_test = train_test_split(train_data.drop(['3PTF'], axis=1), train_data['3PTF'], test_size = 0.20, random_state = 0)\n",
        "\n",
        "x_train = pd.get_dummies(x_train[ts])\n",
        "x_test = pd.get_dummies(x_test[ts])\n",
        "\n",
        "model_dt = DecisionTreeClassifier(max_depth=5, random_state=100)\n",
        "model_dt.fit(x_train, y_train)\n",
        "pred_dt = model_dt.predict(x_test)\n",
        "model_rf = RandomForestClassifier(n_estimators=500, max_depth=5, random_state=1)\n",
        "model_rf.fit(x_train, y_train)\n",
        "pred_rf = model_rf.predict(x_test)\n",
        "\n",
        "# Computing accuracy\n",
        "print(\"The accuracy score for the Decision Tree model is: \")\n",
        "print(accuracy_score(y_test, pred_dt))\n",
        "print(\"The accuracy score for the Random Forest model is: \")\n",
        "print(accuracy_score(y_test, pred_rf))"
      ],
      "metadata": {
        "colab": {
          "base_uri": "https://localhost:8080/"
        },
        "id": "ydaRhtvXMVIQ",
        "outputId": "1f30b938-b8b6-4872-cd5b-f61eff237a7c"
      },
      "execution_count": null,
      "outputs": [
        {
          "output_type": "stream",
          "name": "stdout",
          "text": [
            "The accuracy score for the Decision Tree model is: \n",
            "0.7160493827160493\n",
            "The accuracy score for the Random Forest model is: \n",
            "0.7283950617283951\n"
          ]
        }
      ]
    },
    {
      "cell_type": "code",
      "source": [
        "# Training using the free throw percentage statistic\n",
        "x_train, x_test, y_train, y_test = train_test_split(train_data.drop(['3PTF'], axis=1), train_data['3PTF'], test_size = 0.20, random_state = 0)\n",
        "\n",
        "x_train = pd.get_dummies(x_train[ft])\n",
        "x_test = pd.get_dummies(x_test[ft])\n",
        "\n",
        "model_dt = DecisionTreeClassifier(max_depth=5, random_state=100)\n",
        "model_dt.fit(x_train, y_train)\n",
        "pred_dt = model_dt.predict(x_test)\n",
        "model_rf = RandomForestClassifier(n_estimators=500, max_depth=5, random_state=1)\n",
        "model_rf.fit(x_train, y_train)\n",
        "pred_rf = model_rf.predict(x_test)\n",
        "\n",
        "# Computing accuracy\n",
        "print(\"The accuracy score for the Decision Tree model is: \")\n",
        "print(accuracy_score(y_test, pred_dt))\n",
        "print(\"The accuracy score for the Random Forest model is: \")\n",
        "print(accuracy_score(y_test, pred_rf))"
      ],
      "metadata": {
        "colab": {
          "base_uri": "https://localhost:8080/"
        },
        "id": "a9ss4FaxMjrq",
        "outputId": "23744b83-d342-446c-9ad1-1b1a80f4e477"
      },
      "execution_count": null,
      "outputs": [
        {
          "output_type": "stream",
          "name": "stdout",
          "text": [
            "The accuracy score for the Decision Tree model is: \n",
            "0.691358024691358\n",
            "The accuracy score for the Random Forest model is: \n",
            "0.6790123456790124\n"
          ]
        }
      ]
    },
    {
      "cell_type": "code",
      "source": [
        "# Training using a players offensive rating\n",
        "x_train, x_test, y_train, y_test = train_test_split(train_data.drop(['3PTF'], axis=1), train_data['3PTF'], test_size = 0.20, random_state = 0)\n",
        "\n",
        "x_train = pd.get_dummies(x_train[off])\n",
        "x_test = pd.get_dummies(x_test[off])\n",
        "\n",
        "model_dt = DecisionTreeClassifier(max_depth=5, random_state=100)\n",
        "model_dt.fit(x_train, y_train)\n",
        "pred_dt = model_dt.predict(x_test)\n",
        "model_rf = RandomForestClassifier(n_estimators=500, max_depth=5, random_state=1)\n",
        "model_rf.fit(x_train, y_train)\n",
        "pred_rf = model_rf.predict(x_test)\n",
        "\n",
        "# Computing accuracy\n",
        "print(\"The accuracy score for the Decision Tree model is: \")\n",
        "print(accuracy_score(y_test, pred_dt))\n",
        "print(\"The accuracy score for the Random Forest model is: \")\n",
        "print(accuracy_score(y_test, pred_rf))"
      ],
      "metadata": {
        "colab": {
          "base_uri": "https://localhost:8080/"
        },
        "id": "lgbbcuHbMswx",
        "outputId": "47e0cbc2-26f0-4b25-c3bd-9e747957e061"
      },
      "execution_count": null,
      "outputs": [
        {
          "output_type": "stream",
          "name": "stdout",
          "text": [
            "The accuracy score for the Decision Tree model is: \n",
            "0.5925925925925926\n",
            "The accuracy score for the Random Forest model is: \n",
            "0.6296296296296297\n"
          ]
        }
      ]
    },
    {
      "cell_type": "code",
      "source": [
        "#Visulaizations of the combined physical features, miscellaneous features, and all features\n",
        "import matplotlib.pyplot as plt\n",
        "\n",
        "dtplot = plt.figure()\n",
        "ax = dtplot.add_axes([0,0,1,1])\n",
        "features = [\"Physical\", \"Misc\", \"Physical and Misc\"]\n",
        "acc = [0.679, 0.790, 0.830]\n",
        "ax.bar(features, acc, color = (0.1,0.1,0.1,0.3))\n",
        "plt.xlabel('Features', fontweight ='bold', fontsize = 15)\n",
        "plt.ylabel('Accuracy', fontweight ='bold', fontsize = 15)\n",
        "plt.show()\n",
        "\n",
        "import numpy as np\n",
        "import matplotlib.pyplot as plt\n",
        "\n",
        "# set width of bar\n",
        "barWidth = 0.25\n",
        "fig = plt.subplots(figsize =(16, 8))\n",
        " \n",
        "# set height of bar\n",
        "dt = [0.617, 0.753, 0.778]\n",
        "rf = [0.679, 0.790, 0.840]\n",
        "\n",
        "# Set position of bar on X axis\n",
        "br1 = np.arange(len(dt))\n",
        "br2 = [x + barWidth for x in br1]\n",
        " \n",
        "# Make the plot\n",
        "plt.bar(br1, dt, color =(1, 0.05, 0.05, 0.1), width = barWidth,\n",
        "        edgecolor ='gray', label ='DT')\n",
        "plt.bar(br2, rf, color =(0.05, 1, 0.05, 0.1), width = barWidth,\n",
        "        edgecolor ='gray', label ='RF')\n",
        "\n",
        " \n",
        "# Adding Xticks\n",
        "plt.xlabel('Features', fontweight ='bold', fontsize = 15)\n",
        "plt.ylabel('Accuracy', fontweight ='bold', fontsize = 15)\n",
        "plt.xticks([r + barWidth / 2 for r in range(len(dt))], \n",
        "        ['Physical', 'Miscellaneous', 'Phys & Misc'])\n",
        " \n",
        "plt.legend()\n",
        "plt.show()"
      ],
      "metadata": {
        "colab": {
          "base_uri": "https://localhost:8080/",
          "height": 840
        },
        "id": "IKhwDzwxhBV-",
        "outputId": "158fc6f0-7c2e-49fd-8349-ed3f537fa686"
      },
      "execution_count": 1,
      "outputs": [
        {
          "output_type": "display_data",
          "data": {
            "image/png": "[encoded data removed]",
            "text/plain": [
              "<Figure size 432x288 with 1 Axes>"
            ]
          },
          "metadata": {
            "needs_background": "light"
          }
        },
        {
          "output_type": "display_data",
          "data": {
            "image/png": "[encoded data removed]",
            "text/plain": [
              "<Figure size 1152x576 with 1 Axes>"
            ]
          },
          "metadata": {
            "needs_background": "light"
          }
        }
      ]
    },
    {
      "cell_type": "code",
      "source": [
        ""
      ],
      "metadata": {
        "id": "M8rOi6vrNjAY"
      },
      "execution_count": null,
      "outputs": []
    }
  ]
}